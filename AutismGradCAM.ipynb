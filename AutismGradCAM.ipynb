{
 "cells": [
  {
   "cell_type": "code",
   "execution_count": null,
   "id": "e8846466",
   "metadata": {},
   "outputs": [],
   "source": [
    "# General Imports\n",
    "import numpy as np\n",
    "import os\n",
    "import time\n",
    "import tensorflow as tf\n",
    "from tensorflow import keras\n",
    "from keras.models import load_model\n",
    "from tensorflow.keras.preprocessing.image import ImageDataGenerator, img_to_array, load_img, array_to_img\n",
    "from keras.applications.vgg16 import VGG16, preprocess_input, decode_predictions\n",
    "\n",
    "# Imports for Display\n",
    "from IPython.display import Image, display\n",
    "import matplotlib.pyplot as plt\n",
    "import matplotlib.cm as cm"
   ]
  },
  {
   "cell_type": "code",
   "execution_count": null,
   "id": "49eca615",
   "metadata": {},
   "outputs": [],
   "source": [
    "# Load in the model\n",
    "model = load_model('/Users/huangeric34/SciMont2023/vgg_model50.h5')"
   ]
  },
  {
   "cell_type": "code",
   "execution_count": null,
   "id": "89f1ec48",
   "metadata": {},
   "outputs": [],
   "source": [
    "photo_size = 224\n",
    "img_size = (photo_size, photo_size)\n",
    "\n",
    "def preprocess_input(image_path, target_size, rescale_value=1./255):\n",
    "    # load image\n",
    "    image = load_img(image_path, target_size=target_size)\n",
    "    # convert to numpy array\n",
    "    image = img_to_array(image)\n",
    "    # rescale pixel values\n",
    "    image /= rescale_value\n",
    "    # expand dimension to create a batch of 1 image\n",
    "    image = np.expand_dims(image, axis=0)\n",
    "    return image"
   ]
  },
  {
   "cell_type": "code",
   "execution_count": null,
   "id": "ee6045fa",
   "metadata": {},
   "outputs": [],
   "source": [
    "# find the last layer for analysis\n",
    "model.summary()\n",
    "\n",
    "# save this layer\n",
    "last_conv_layer_name = \"block5_conv3\""
   ]
  },
  {
   "cell_type": "code",
   "execution_count": null,
   "id": "df04b33a",
   "metadata": {},
   "outputs": [],
   "source": [
    "# load in the image for analysis\n",
    "img_path = '/Users/huangeric34/Downloads/archive/test/autistic/149.jpg'"
   ]
  },
  {
   "cell_type": "code",
   "execution_count": null,
   "id": "1ef66116",
   "metadata": {},
   "outputs": [],
   "source": [
    "# display in Jupyter Notebook\n",
    "display(Image(img_path))"
   ]
  },
  {
   "cell_type": "code",
   "execution_count": null,
   "id": "594eced9",
   "metadata": {},
   "outputs": [],
   "source": [
    "# change image into readable array\n",
    "def get_img_array(img_path, size):\n",
    "    # `img` is a PIL image of size 299x299\n",
    "    img = keras.preprocessing.image.load_img(img_path, target_size=size)\n",
    "    # `array` is a float32 Numpy array of shape (299, 299, 3)\n",
    "    array = keras.preprocessing.image.img_to_array(img)\n",
    "    # add a dimension to transform our array into a \"batch\" of size (1, 299, 299, 3)\n",
    "    array = np.expand_dims(array, axis=0)\n",
    "    return array"
   ]
  },
  {
   "cell_type": "code",
   "execution_count": null,
   "id": "d31a67eb",
   "metadata": {},
   "outputs": [],
   "source": [
    "# Create the heatmap\n",
    "def make_gradcam_heatmap(img_array, model, last_conv_layer_name, pred_index=None):\n",
    "    # model that maps the input image to the activations of the last conv layer as well as the output predictions\n",
    "    grad_model = tf.keras.models.Model(\n",
    "        [model.inputs], [model.get_layer(last_conv_layer_name).output, model.output]\n",
    "    )\n",
    "\n",
    "    # compute the gradient of the top predicted class for our input image with respect to the activations of the last conv layer\n",
    "    with tf.GradientTape() as tape:\n",
    "        last_conv_layer_output, preds = grad_model(img_array)\n",
    "        if pred_index is None:\n",
    "            pred_index = tf.argmax(preds[0])\n",
    "        class_channel = preds[:, pred_index]\n",
    "\n",
    "    # gradient of the output neuron (top predicted or chosen) with regard to the output feature map of the last conv layer\n",
    "    grads = tape.gradient(class_channel, last_conv_layer_output)\n",
    "\n",
    "    # vector where each entry is the mean intensity of the gradient over a specifpipic feature map channel\n",
    "    pooled_grads = tf.reduce_mean(grads, axis=(0, 1, 2))\n",
    "\n",
    "    # multiply each channel in the feature map array by \"how important this channel is\" with regard to the top predicted class\n",
    "    # then sum all the channels to obtain the heatmap class activation\n",
    "    last_conv_layer_output = last_conv_layer_output[0]\n",
    "    heatmap = last_conv_layer_output @ pooled_grads[..., tf.newaxis]\n",
    "    heatmap = tf.squeeze(heatmap)\n",
    "\n",
    "    heatmap = tf.maximum(heatmap, 0) / tf.math.reduce_max(heatmap)\n",
    "    return heatmap.numpy()"
   ]
  },
  {
   "cell_type": "code",
   "execution_count": null,
   "id": "92502414",
   "metadata": {},
   "outputs": [],
   "source": [
    "# save the superimposed image to an output layer\n",
    "def save_and_display_gradcam(img_path, heatmap, alpha=0.8):\n",
    "    # folder to save the image in\n",
    "    folder_path = '/Users/huangeric34/Documents/ImageNetOutput'\n",
    "        \n",
    "    timestamp = int(time.time())\n",
    "    file_name = f'{timestamp}.jpg'\n",
    "\n",
    "    # load the original image\n",
    "    img = keras.preprocessing.image.load_img(img_path)\n",
    "    img = keras.preprocessing.image.img_to_array(img)\n",
    "\n",
    "    # rescale heatmap to a range 0-255\n",
    "    heatmap = np.uint8(255 * heatmap)\n",
    "\n",
    "    # use jet colormap to colorize heatmap\n",
    "    jet = cm.get_cmap(\"jet\")\n",
    "\n",
    "    # use RGB values of the colormap\n",
    "    jet_colors = jet(np.arange(256))[:, :3]\n",
    "    jet_heatmap = jet_colors[heatmap]\n",
    "\n",
    "    # create an image with RGB colorized heatmap\n",
    "    jet_heatmap = keras.preprocessing.image.array_to_img(jet_heatmap)\n",
    "    jet_heatmap = jet_heatmap.resize((img.shape[1], img.shape[0]))\n",
    "    jet_heatmap = keras.preprocessing.image.img_to_array(jet_heatmap)\n",
    "\n",
    "    # superimpose the heatmap on original image\n",
    "    superimposed_img = jet_heatmap * alpha + img\n",
    "    superimposed_img = keras.preprocessing.image.array_to_img(superimposed_img)\n",
    "\n",
    "    # save the superimposed image\n",
    "    array_to_img(superimposed_img).save(os.path.join(folder_path, file_name))\n",
    "\n",
    "    # display Grad CAM\n",
    "    display(Image(file_name))"
   ]
  },
  {
   "cell_type": "code",
   "execution_count": null,
   "id": "fe979890",
   "metadata": {},
   "outputs": [],
   "source": [
    "# prepare image\n",
    "img_array = preprocess_input(img_path, target_size=img_size)"
   ]
  },
  {
   "cell_type": "code",
   "execution_count": null,
   "id": "6047118e",
   "metadata": {},
   "outputs": [],
   "source": [
    "# remove last layer's softmax\n",
    "model.layers[-1].activation = None"
   ]
  },
  {
   "cell_type": "code",
   "execution_count": null,
   "id": "ba9a2987",
   "metadata": {},
   "outputs": [],
   "source": [
    "# print what the top predicted class is\n",
    "preds = model.predict(img_array)\n",
    "# print(\"Predicted:\", decode_predictions(preds, top=1)[0])"
   ]
  },
  {
   "cell_type": "code",
   "execution_count": null,
   "id": "a5dc2411",
   "metadata": {},
   "outputs": [],
   "source": [
    "# create the heatmap\n",
    "heatmap = make_gradcam_heatmap(img_array, model, last_conv_layer_name)"
   ]
  },
  {
   "cell_type": "code",
   "execution_count": null,
   "id": "dd7efa61",
   "metadata": {},
   "outputs": [],
   "source": [
    "# save superimposed (overlayed) heatmap to folder\n",
    "save_and_display_gradcam(img_path, heatmap)"
   ]
  },
  {
   "cell_type": "code",
   "execution_count": null,
   "id": "3cebe688",
   "metadata": {},
   "outputs": [],
   "source": [
    "# display heatmap in new window\n",
    "plt.matshow(heatmap)\n",
    "plt.show()"
   ]
  }
 ],
 "metadata": {
  "kernelspec": {
   "display_name": "Python 3 (ipykernel)",
   "language": "python",
   "name": "python3"
  },
  "language_info": {
   "codemirror_mode": {
    "name": "ipython",
    "version": 3
   },
   "file_extension": ".py",
   "mimetype": "text/x-python",
   "name": "python",
   "nbconvert_exporter": "python",
   "pygments_lexer": "ipython3",
   "version": "3.10.9"
  }
 },
 "nbformat": 4,
 "nbformat_minor": 5
}
